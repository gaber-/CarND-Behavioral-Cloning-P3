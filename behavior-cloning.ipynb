{
 "cells": [
  {
   "cell_type": "code",
   "execution_count": null,
   "metadata": {
    "collapsed": true
   },
   "outputs": [],
   "source": [
    "import csv\n",
    "import cv2\n",
    "import numpy as np\n",
    "\n",
    "def read_paths(paths):\n",
    "    imgs = []\n",
    "    for path in paths:\n",
    "        with open(path) as csvf:\n",
    "            readfile=csv.reader(csvf)\n",
    "            for line in readfile:\n",
    "                imgs.append(line)\n",
    "    return imgs\n",
    "data=['data/driving_log.csv', 'data2/driving_log.csv',                           \n",
    "      'data_offroad_correct/driving_log.csv', 'data_shadow_track2/driving_log.csv',\n",
    "      'data_track2/driving_log.csv', 'data_track2_2/driving_log.csv', 'data_curve/driving_log.csv']                                                                               \n",
    "data = read_paths(data)\n",
    "\n",
    "\n"
   ]
  },
  {
   "cell_type": "code",
   "execution_count": null,
   "metadata": {
    "collapsed": true
   },
   "outputs": [],
   "source": []
  },
  {
   "cell_type": "code",
   "execution_count": null,
   "metadata": {
    "collapsed": true
   },
   "outputs": [],
   "source": [
    "import sklearn\n",
    "from random import shuffle\n",
    "def generator(samples, batch_size=32):\n",
    "    num_samples = len(samples)\n",
    "    while 1: # Loop forever so the generator never terminates\n",
    "        shuffle(samples)\n",
    "        for offset in range(0, num_samples, batch_size):\n",
    "            batch_samples = samples[offset:offset+batch_size]\n",
    "\n",
    "            images = []\n",
    "            angles = []\n",
    "            for batch_sample in batch_samples:\n",
    "                #flip half the images\n",
    "                #if i%2:\n",
    "                center_image = cv2.imread(batch_sample[0])\n",
    "                center_angle = float(batch_sample[3])\n",
    "                #else:\n",
    "                center_image = np.fliplr(cv2.imread(batch_sample[0]))\n",
    "                center_angle = -float(batch_sample[3])\n",
    "                images.append(center_image)\n",
    "                angles.append(center_angle)\n",
    "\n",
    "            # trim image to only see section with road\n",
    "            X_train = np.array(images)\n",
    "            y_train = np.array(angles)\n",
    "            yield sklearn.utils.shuffle(X_train, y_train)\n"
   ]
  },
  {
   "cell_type": "code",
   "execution_count": null,
   "metadata": {
    "collapsed": true
   },
   "outputs": [],
   "source": []
  },
  {
   "cell_type": "code",
   "execution_count": null,
   "metadata": {
    "collapsed": true
   },
   "outputs": [],
   "source": []
  },
  {
   "cell_type": "code",
   "execution_count": null,
   "metadata": {
    "collapsed": true
   },
   "outputs": [],
   "source": []
  },
  {
   "cell_type": "code",
   "execution_count": null,
   "metadata": {
    "collapsed": true
   },
   "outputs": [],
   "source": []
  },
  {
   "cell_type": "code",
   "execution_count": null,
   "metadata": {
    "collapsed": true
   },
   "outputs": [],
   "source": []
  },
  {
   "cell_type": "code",
   "execution_count": null,
   "metadata": {
    "collapsed": true
   },
   "outputs": [],
   "source": []
  },
  {
   "cell_type": "code",
   "execution_count": null,
   "metadata": {
    "collapsed": true
   },
   "outputs": [],
   "source": []
  },
  {
   "cell_type": "code",
   "execution_count": null,
   "metadata": {},
   "outputs": [],
   "source": [
    "from keras.models import Sequential                                              \n",
    "from keras.layers import Flatten, Dense, Conv2D, Lambda, Cropping2D              \n",
    "from keras.layers.core import Dropout                                            \n",
    "from keras.layers.advanced_activations import PReLU                              \n",
    "                                                                            \n",
    "from sklearn.model_selection import train_test_split                             \n",
    "train_samples, valid_samples = train_test_split(data, test_size=0.2)             \n",
    "rate = 0.25                                                                      \n",
    "rateconv = 0.25                                                                  \n",
    "batch_size = 16                                                                  \n",
    "                                                                                 \n",
    "train_generator=generator(train_samples, batch_size=batch_size)                  \n",
    "valid_generator=generator(valid_samples, batch_size=batch_size)                  \n",
    "\n",
    "nn = Sequential()                                                                \n",
    "nn.add(Cropping2D(cropping=((50,0), (0,0)), input_shape=(160,320,3)))            \n",
    "nn.add(Lambda(lambda x : x/126-1))                                               \n",
    "nn.add(Conv2D(24, (15, 15), strides=(3,6), activation = 'relu'))                 \n",
    "nn.add(Dropout(rateconv))                                                        \n",
    "nn.add(Conv2D(48, (7,7), strides=(3,3), activation='relu'))                      \n",
    "nn.add(Dropout(rateconv))                                                        \n",
    "nn.add(Conv2D(96, (5,5), activation='relu'))                                     \n",
    "nn.add(Dropout(rateconv))                                                        \n",
    "nn.add(Conv2D(192, (3,3), activation='relu'))                                    \n",
    "nn.add(Dropout(rateconv))                                                        \n",
    "nn.add(Flatten())                                                                \n",
    "nn.add(Dense(1))                                                                 \n",
    "nn.compile(loss='mse', optimizer='adam')                                         \n",
    "nn.fit_generator(train_generator, steps_per_epoch=                               \n",
    "             len(train_samples)/batch_size+ len(train_samples)%batch_size, validation_data=valid_generator,\n",
    "             validation_steps=len(valid_samples)/batch_size + len(valid_samples)%batch_size, epochs=5)\n",
    "\n",
    "nn.save('dr8_5.h5') \n"
   ]
  },
  {
   "cell_type": "code",
   "execution_count": null,
   "metadata": {},
   "outputs": [],
   "source": [
    "#nn.fit(images, angles, validation_split=0.2, shuffle=True, epochs=15)\n",
    "nn.fit_generator(train_generator, steps_per_epoch=\n",
    "            len(train_samples)/batch_size+ len(train_samples)%batch_size, validation_data=valid_generator,\n",
    "            validation_steps=len(valid_samples)/batch_size + len(valid_samples)%batch_size, epochs=15)\n",
    "nn.save('dr8_20.h5')"
   ]
  },
  {
   "cell_type": "code",
   "execution_count": null,
   "metadata": {},
   "outputs": [],
   "source": [
    "#nn.fit(images, angles, validation_split=0.2, shuffle=True, epochs=20)\n",
    "nn.fit_generator(train_generator, steps_per_epoch=\n",
    "            len(train_samples)/batch_size+ len(train_samples)%batch_size, validation_data=valid_generator,\n",
    "            validation_steps=len(valid_samples)/batch_size + len(valid_samples)%batch_size, epochs=20)\n",
    "nn.save('dr8_40.h5')"
   ]
  },
  {
   "cell_type": "code",
   "execution_count": null,
   "metadata": {},
   "outputs": [],
   "source": [
    "#nn.fit(images, angles, validation_split=0.2, shuffle=True, epochs=20)\n",
    "nn.fit_generator(train_generator, steps_per_epoch=\n",
    "            len(train_samples)/batch_size+ len(train_samples)%batch_size, validation_data=valid_generator,\n",
    "            validation_steps=len(valid_samples)/batch_size + len(valid_samples)%batch_size, epochs=20)\n",
    "nn.save('dr8_60.h5')"
   ]
  },
  {
   "cell_type": "code",
   "execution_count": null,
   "metadata": {},
   "outputs": [],
   "source": [
    "#nn.fit(images, angles, validation_split=0.2, shuffle=True, epochs=20)\n",
    "nn.fit_generator(train_generator, steps_per_epoch=\n",
    "            len(train_samples)/batch_size+ len(train_samples)%batch_size, validation_data=valid_generator,\n",
    "            validation_steps=len(valid_samples)/batch_size + len(valid_samples)%batch_size, epochs=20)\n",
    "nn.save('dr8_80.h5')"
   ]
  },
  {
   "cell_type": "code",
   "execution_count": null,
   "metadata": {},
   "outputs": [],
   "source": [
    "#nn.fit(images, angles, validation_split=0.2, shuffle=True, epochs=20)\n",
    "nn.fit_generator(train_generator, steps_per_epoch=\n",
    "            len(train_samples)/batch_size+ len(train_samples)%batch_size, validation_data=valid_generator,\n",
    "            validation_steps=len(valid_samples)/batch_size + len(valid_samples)%batch_size, epochs=60)\n",
    "nn.save('dr8_100.h5')"
   ]
  },
  {
   "cell_type": "code",
   "execution_count": null,
   "metadata": {
    "collapsed": true
   },
   "outputs": [],
   "source": []
  },
  {
   "cell_type": "code",
   "execution_count": null,
   "metadata": {
    "collapsed": true
   },
   "outputs": [],
   "source": []
  },
  {
   "cell_type": "code",
   "execution_count": null,
   "metadata": {
    "collapsed": true
   },
   "outputs": [],
   "source": []
  },
  {
   "cell_type": "code",
   "execution_count": null,
   "metadata": {
    "collapsed": true
   },
   "outputs": [],
   "source": []
  },
  {
   "cell_type": "code",
   "execution_count": null,
   "metadata": {
    "collapsed": true
   },
   "outputs": [],
   "source": []
  },
  {
   "cell_type": "code",
   "execution_count": null,
   "metadata": {
    "collapsed": true
   },
   "outputs": [],
   "source": []
  },
  {
   "cell_type": "code",
   "execution_count": null,
   "metadata": {
    "collapsed": true
   },
   "outputs": [],
   "source": []
  },
  {
   "cell_type": "code",
   "execution_count": null,
   "metadata": {
    "collapsed": true
   },
   "outputs": [],
   "source": []
  },
  {
   "cell_type": "code",
   "execution_count": null,
   "metadata": {
    "collapsed": true
   },
   "outputs": [],
   "source": []
  }
 ],
 "metadata": {
  "kernelspec": {
   "display_name": "Python 3",
   "language": "python",
   "name": "python3"
  },
  "language_info": {
   "codemirror_mode": {
    "name": "ipython",
    "version": 3
   },
   "file_extension": ".py",
   "mimetype": "text/x-python",
   "name": "python",
   "nbconvert_exporter": "python",
   "pygments_lexer": "ipython3",
   "version": "3.5.2"
  },
  "widgets": {
   "state": {},
   "version": "1.1.2"
  }
 },
 "nbformat": 4,
 "nbformat_minor": 2
}
